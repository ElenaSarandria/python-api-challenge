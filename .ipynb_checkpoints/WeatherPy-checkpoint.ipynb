{
 "cells": [
  {
   "cell_type": "markdown",
   "metadata": {},
   "source": [
    "# WeatherPy\n",
    "----\n",
    "\n",
    "#### Note\n",
    "* Instructions have been included for each segment. You do not have to follow them exactly, but they are included to help you think through the steps."
   ]
  },
  {
   "cell_type": "code",
   "execution_count": 2,
   "metadata": {
    "scrolled": true
   },
   "outputs": [],
   "source": [
    "# Dependencies and Setup\n",
    "import matplotlib.pyplot as plt\n",
    "import pandas as pd\n",
    "import numpy as np\n",
    "import requests\n",
    "import time\n",
    "from scipy.stats import linregress\n",
    "import json\n",
    "from scipy import stats\n",
    "\n",
    "# Import API key\n",
    "from api_keys import weather_api_key\n",
    "\n",
    "# Incorporated citipy to determine city based on latitude and longitude\n",
    "from citipy import citipy\n",
    "\n",
    "output_data_file = \"output_data/cities.csv\"\n",
    "\n",
    "# Range of latitudes and longitudes\n",
    "lat_range = (-90, 90)\n",
    "lng_range = (-180, 180)"
   ]
  },
  {
   "cell_type": "markdown",
   "metadata": {},
   "source": [
    "## Generate Cities List"
   ]
  },
  {
   "cell_type": "code",
   "execution_count": 3,
   "metadata": {},
   "outputs": [
    {
     "data": {
      "text/plain": [
       "134"
      ]
     },
     "execution_count": 3,
     "metadata": {},
     "output_type": "execute_result"
    }
   ],
   "source": [
    "# List for holding lat_lngs and cities\n",
    "lat_lngs = []\n",
    "cities = []\n",
    "\n",
    "# Create a set of random lat and lng combinations\n",
    "lats = np.random.uniform(low=-90.000, high=90.000, size=200)\n",
    "lngs = np.random.uniform(low=-180.000, high=180.000, size=200)\n",
    "lat_lngs = zip(lats, lngs)\n",
    "\n",
    "# Identify nearest city for each lat, lng combination\n",
    "for lat_lng in lat_lngs:\n",
    "    city = citipy.nearest_city(lat_lng[0], lat_lng[1]).city_name\n",
    "    \n",
    "    # If the city is unique, then add it to a our cities list\n",
    "    if city not in cities:\n",
    "        cities.append(city)\n",
    "\n",
    "\n",
    "# Print the city count to confirm sufficient count\n",
    "len(cities)"
   ]
  },
  {
   "cell_type": "markdown",
   "metadata": {},
   "source": [
    "### Perform API Calls\n",
    "* Perform a weather check on each city using a series of successive API calls.\n",
    "* Include a print log of each city as it'sbeing processed (with the city number and city name).\n"
   ]
  },
  {
   "cell_type": "code",
   "execution_count": 4,
   "metadata": {},
   "outputs": [
    {
     "name": "stdout",
     "output_type": "stream",
     "text": [
      "Beginning Data Retrieval\n",
      "........................\n",
      "Processing Record 1 | Bambous Virieux\n",
      "http://api.openweathermap.org/data/2.5/weather?units=Imperial&APPID=9cfaeb3dbd4832137f0fb5f0e12ca0f4&q=bambous virieux\n",
      "Processing Record 2 | Bredasdorp\n",
      "http://api.openweathermap.org/data/2.5/weather?units=Imperial&APPID=9cfaeb3dbd4832137f0fb5f0e12ca0f4&q=bredasdorp\n",
      "\n",
      "City not found. Skipping barentsburg\n",
      "\n",
      "Processing Record 3 | Rikitea\n",
      "http://api.openweathermap.org/data/2.5/weather?units=Imperial&APPID=9cfaeb3dbd4832137f0fb5f0e12ca0f4&q=rikitea\n",
      "Processing Record 4 | Iwaki\n",
      "http://api.openweathermap.org/data/2.5/weather?units=Imperial&APPID=9cfaeb3dbd4832137f0fb5f0e12ca0f4&q=iwaki\n",
      "Processing Record 5 | Paamiut\n",
      "http://api.openweathermap.org/data/2.5/weather?units=Imperial&APPID=9cfaeb3dbd4832137f0fb5f0e12ca0f4&q=paamiut\n",
      "Processing Record 6 | Lebu\n",
      "http://api.openweathermap.org/data/2.5/weather?units=Imperial&APPID=9cfaeb3dbd4832137f0fb5f0e12ca0f4&q=lebu\n",
      "Processing Record 7 | Shache\n",
      "http://api.openweathermap.org/data/2.5/weather?units=Imperial&APPID=9cfaeb3dbd4832137f0fb5f0e12ca0f4&q=shache\n",
      "Processing Record 8 | Saint-Pierre\n",
      "http://api.openweathermap.org/data/2.5/weather?units=Imperial&APPID=9cfaeb3dbd4832137f0fb5f0e12ca0f4&q=saint-pierre\n",
      "Processing Record 9 | Ushuaia\n",
      "http://api.openweathermap.org/data/2.5/weather?units=Imperial&APPID=9cfaeb3dbd4832137f0fb5f0e12ca0f4&q=ushuaia\n",
      "Processing Record 10 | San Juan Bautista\n",
      "http://api.openweathermap.org/data/2.5/weather?units=Imperial&APPID=9cfaeb3dbd4832137f0fb5f0e12ca0f4&q=san juan bautista\n",
      "Processing Record 11 | Alofi\n",
      "http://api.openweathermap.org/data/2.5/weather?units=Imperial&APPID=9cfaeb3dbd4832137f0fb5f0e12ca0f4&q=alofi\n",
      "Processing Record 12 | Punta Arenas\n",
      "http://api.openweathermap.org/data/2.5/weather?units=Imperial&APPID=9cfaeb3dbd4832137f0fb5f0e12ca0f4&q=punta arenas\n",
      "Processing Record 13 | Mount Gambier\n",
      "http://api.openweathermap.org/data/2.5/weather?units=Imperial&APPID=9cfaeb3dbd4832137f0fb5f0e12ca0f4&q=mount gambier\n",
      "Processing Record 14 | Albany\n",
      "http://api.openweathermap.org/data/2.5/weather?units=Imperial&APPID=9cfaeb3dbd4832137f0fb5f0e12ca0f4&q=albany\n",
      "Processing Record 15 | Barinas\n",
      "http://api.openweathermap.org/data/2.5/weather?units=Imperial&APPID=9cfaeb3dbd4832137f0fb5f0e12ca0f4&q=barinas\n",
      "Processing Record 16 | Mombetsu\n",
      "http://api.openweathermap.org/data/2.5/weather?units=Imperial&APPID=9cfaeb3dbd4832137f0fb5f0e12ca0f4&q=mombetsu\n",
      "Processing Record 17 | Hobart\n",
      "http://api.openweathermap.org/data/2.5/weather?units=Imperial&APPID=9cfaeb3dbd4832137f0fb5f0e12ca0f4&q=hobart\n",
      "Processing Record 18 | Arraial do Cabo\n",
      "http://api.openweathermap.org/data/2.5/weather?units=Imperial&APPID=9cfaeb3dbd4832137f0fb5f0e12ca0f4&q=arraial do cabo\n",
      "Processing Record 19 | Paramonga\n",
      "http://api.openweathermap.org/data/2.5/weather?units=Imperial&APPID=9cfaeb3dbd4832137f0fb5f0e12ca0f4&q=paramonga\n",
      "Processing Record 20 | Zeya\n",
      "http://api.openweathermap.org/data/2.5/weather?units=Imperial&APPID=9cfaeb3dbd4832137f0fb5f0e12ca0f4&q=zeya\n",
      "\n",
      "City not found. Skipping grand river south east\n",
      "\n",
      "Processing Record 21 | Bluff\n",
      "http://api.openweathermap.org/data/2.5/weather?units=Imperial&APPID=9cfaeb3dbd4832137f0fb5f0e12ca0f4&q=bluff\n",
      "Processing Record 22 | Sharjah\n",
      "http://api.openweathermap.org/data/2.5/weather?units=Imperial&APPID=9cfaeb3dbd4832137f0fb5f0e12ca0f4&q=sharjah\n",
      "Processing Record 23 | Mariental\n",
      "http://api.openweathermap.org/data/2.5/weather?units=Imperial&APPID=9cfaeb3dbd4832137f0fb5f0e12ca0f4&q=mariental\n",
      "Processing Record 24 | Kapaa\n",
      "http://api.openweathermap.org/data/2.5/weather?units=Imperial&APPID=9cfaeb3dbd4832137f0fb5f0e12ca0f4&q=kapaa\n",
      "\n",
      "City not found. Skipping illoqqortoormiut\n",
      "\n",
      "\n",
      "City not found. Skipping belushya guba\n",
      "\n",
      "Processing Record 25 | Ambon\n",
      "http://api.openweathermap.org/data/2.5/weather?units=Imperial&APPID=9cfaeb3dbd4832137f0fb5f0e12ca0f4&q=ambon\n",
      "Processing Record 26 | Salamanca\n",
      "http://api.openweathermap.org/data/2.5/weather?units=Imperial&APPID=9cfaeb3dbd4832137f0fb5f0e12ca0f4&q=salamanca\n",
      "Processing Record 27 | Atuona\n",
      "http://api.openweathermap.org/data/2.5/weather?units=Imperial&APPID=9cfaeb3dbd4832137f0fb5f0e12ca0f4&q=atuona\n",
      "Processing Record 28 | Serebryansk\n",
      "http://api.openweathermap.org/data/2.5/weather?units=Imperial&APPID=9cfaeb3dbd4832137f0fb5f0e12ca0f4&q=serebryansk\n",
      "Processing Record 29 | Kangaatsiaq\n",
      "http://api.openweathermap.org/data/2.5/weather?units=Imperial&APPID=9cfaeb3dbd4832137f0fb5f0e12ca0f4&q=kangaatsiaq\n",
      "Processing Record 30 | San Jose\n",
      "http://api.openweathermap.org/data/2.5/weather?units=Imperial&APPID=9cfaeb3dbd4832137f0fb5f0e12ca0f4&q=san jose\n",
      "Processing Record 31 | Dingle\n",
      "http://api.openweathermap.org/data/2.5/weather?units=Imperial&APPID=9cfaeb3dbd4832137f0fb5f0e12ca0f4&q=dingle\n",
      "Processing Record 32 | Carnarvon\n",
      "http://api.openweathermap.org/data/2.5/weather?units=Imperial&APPID=9cfaeb3dbd4832137f0fb5f0e12ca0f4&q=carnarvon\n",
      "Processing Record 33 | Mataura\n",
      "http://api.openweathermap.org/data/2.5/weather?units=Imperial&APPID=9cfaeb3dbd4832137f0fb5f0e12ca0f4&q=mataura\n",
      "Processing Record 34 | Komatipoort\n",
      "http://api.openweathermap.org/data/2.5/weather?units=Imperial&APPID=9cfaeb3dbd4832137f0fb5f0e12ca0f4&q=komatipoort\n",
      "Processing Record 35 | San Cristobal\n",
      "http://api.openweathermap.org/data/2.5/weather?units=Imperial&APPID=9cfaeb3dbd4832137f0fb5f0e12ca0f4&q=san cristobal\n",
      "Processing Record 36 | Saskylakh\n",
      "http://api.openweathermap.org/data/2.5/weather?units=Imperial&APPID=9cfaeb3dbd4832137f0fb5f0e12ca0f4&q=saskylakh\n",
      "Processing Record 37 | Pevek\n",
      "http://api.openweathermap.org/data/2.5/weather?units=Imperial&APPID=9cfaeb3dbd4832137f0fb5f0e12ca0f4&q=pevek\n",
      "Processing Record 38 | Gorontalo\n",
      "http://api.openweathermap.org/data/2.5/weather?units=Imperial&APPID=9cfaeb3dbd4832137f0fb5f0e12ca0f4&q=gorontalo\n",
      "Processing Record 39 | San Patricio\n",
      "http://api.openweathermap.org/data/2.5/weather?units=Imperial&APPID=9cfaeb3dbd4832137f0fb5f0e12ca0f4&q=san patricio\n",
      "Processing Record 40 | Peleduy\n",
      "http://api.openweathermap.org/data/2.5/weather?units=Imperial&APPID=9cfaeb3dbd4832137f0fb5f0e12ca0f4&q=peleduy\n",
      "Processing Record 41 | George Town\n",
      "http://api.openweathermap.org/data/2.5/weather?units=Imperial&APPID=9cfaeb3dbd4832137f0fb5f0e12ca0f4&q=georgetown\n",
      "Processing Record 42 | Bariloche\n",
      "http://api.openweathermap.org/data/2.5/weather?units=Imperial&APPID=9cfaeb3dbd4832137f0fb5f0e12ca0f4&q=san carlos de bariloche\n",
      "Processing Record 43 | Abu Zabad\n",
      "http://api.openweathermap.org/data/2.5/weather?units=Imperial&APPID=9cfaeb3dbd4832137f0fb5f0e12ca0f4&q=abu zabad\n",
      "Processing Record 44 | Deputatsky\n",
      "http://api.openweathermap.org/data/2.5/weather?units=Imperial&APPID=9cfaeb3dbd4832137f0fb5f0e12ca0f4&q=deputatskiy\n",
      "Processing Record 45 | Yellowknife\n",
      "http://api.openweathermap.org/data/2.5/weather?units=Imperial&APPID=9cfaeb3dbd4832137f0fb5f0e12ca0f4&q=yellowknife\n",
      "Processing Record 46 | Vaini\n",
      "http://api.openweathermap.org/data/2.5/weather?units=Imperial&APPID=9cfaeb3dbd4832137f0fb5f0e12ca0f4&q=vaini\n",
      "\n",
      "City not found. Skipping taolanaro\n",
      "\n",
      "Processing Record 47 | Upernavik\n",
      "http://api.openweathermap.org/data/2.5/weather?units=Imperial&APPID=9cfaeb3dbd4832137f0fb5f0e12ca0f4&q=upernavik\n",
      "Processing Record 48 | Mar del Plata\n",
      "http://api.openweathermap.org/data/2.5/weather?units=Imperial&APPID=9cfaeb3dbd4832137f0fb5f0e12ca0f4&q=mar del plata\n",
      "Processing Record 49 | Zheleznodorozhnyy\n",
      "http://api.openweathermap.org/data/2.5/weather?units=Imperial&APPID=9cfaeb3dbd4832137f0fb5f0e12ca0f4&q=zheleznodorozhnyy\n",
      "\n",
      "City not found. Skipping saleaula\n",
      "\n",
      "Processing Record 50 | Dikson\n",
      "http://api.openweathermap.org/data/2.5/weather?units=Imperial&APPID=9cfaeb3dbd4832137f0fb5f0e12ca0f4&q=dikson\n",
      "Processing Record 51 | Laas\n",
      "http://api.openweathermap.org/data/2.5/weather?units=Imperial&APPID=9cfaeb3dbd4832137f0fb5f0e12ca0f4&q=lasa\n",
      "Processing Record 52 | Sur\n",
      "http://api.openweathermap.org/data/2.5/weather?units=Imperial&APPID=9cfaeb3dbd4832137f0fb5f0e12ca0f4&q=sur\n",
      "Processing Record 53 | Ilulissat\n",
      "http://api.openweathermap.org/data/2.5/weather?units=Imperial&APPID=9cfaeb3dbd4832137f0fb5f0e12ca0f4&q=ilulissat\n",
      "Processing Record 54 | Chifeng\n",
      "http://api.openweathermap.org/data/2.5/weather?units=Imperial&APPID=9cfaeb3dbd4832137f0fb5f0e12ca0f4&q=chifeng\n",
      "Processing Record 55 | Tautira\n",
      "http://api.openweathermap.org/data/2.5/weather?units=Imperial&APPID=9cfaeb3dbd4832137f0fb5f0e12ca0f4&q=tautira\n"
     ]
    },
    {
     "name": "stdout",
     "output_type": "stream",
     "text": [
      "Processing Record 56 | Qaanaaq\n",
      "http://api.openweathermap.org/data/2.5/weather?units=Imperial&APPID=9cfaeb3dbd4832137f0fb5f0e12ca0f4&q=qaanaaq\n",
      "Processing Record 57 | Qaqortoq\n",
      "http://api.openweathermap.org/data/2.5/weather?units=Imperial&APPID=9cfaeb3dbd4832137f0fb5f0e12ca0f4&q=qaqortoq\n",
      "Processing Record 58 | Kaitangata\n",
      "http://api.openweathermap.org/data/2.5/weather?units=Imperial&APPID=9cfaeb3dbd4832137f0fb5f0e12ca0f4&q=kaitangata\n",
      "Processing Record 59 | Barrow\n",
      "http://api.openweathermap.org/data/2.5/weather?units=Imperial&APPID=9cfaeb3dbd4832137f0fb5f0e12ca0f4&q=barrow\n",
      "Processing Record 60 | Busselton\n",
      "http://api.openweathermap.org/data/2.5/weather?units=Imperial&APPID=9cfaeb3dbd4832137f0fb5f0e12ca0f4&q=busselton\n",
      "Processing Record 61 | Rudnogorsk\n",
      "http://api.openweathermap.org/data/2.5/weather?units=Imperial&APPID=9cfaeb3dbd4832137f0fb5f0e12ca0f4&q=rudnogorsk\n",
      "Processing Record 62 | Opuwo\n",
      "http://api.openweathermap.org/data/2.5/weather?units=Imperial&APPID=9cfaeb3dbd4832137f0fb5f0e12ca0f4&q=opuwo\n",
      "Processing Record 63 | Esik\n",
      "http://api.openweathermap.org/data/2.5/weather?units=Imperial&APPID=9cfaeb3dbd4832137f0fb5f0e12ca0f4&q=esik\n",
      "Processing Record 64 | Chokurdakh\n",
      "http://api.openweathermap.org/data/2.5/weather?units=Imperial&APPID=9cfaeb3dbd4832137f0fb5f0e12ca0f4&q=chokurdakh\n",
      "Processing Record 65 | Gamba\n",
      "http://api.openweathermap.org/data/2.5/weather?units=Imperial&APPID=9cfaeb3dbd4832137f0fb5f0e12ca0f4&q=gamba\n",
      "Processing Record 66 | Broken Hill\n",
      "http://api.openweathermap.org/data/2.5/weather?units=Imperial&APPID=9cfaeb3dbd4832137f0fb5f0e12ca0f4&q=broken hill\n",
      "\n",
      "City not found. Skipping umzimvubu\n",
      "\n",
      "Processing Record 67 | Zemio\n",
      "http://api.openweathermap.org/data/2.5/weather?units=Imperial&APPID=9cfaeb3dbd4832137f0fb5f0e12ca0f4&q=zemio\n",
      "Processing Record 68 | College\n",
      "http://api.openweathermap.org/data/2.5/weather?units=Imperial&APPID=9cfaeb3dbd4832137f0fb5f0e12ca0f4&q=college\n",
      "Processing Record 69 | Ribeira Grande\n",
      "http://api.openweathermap.org/data/2.5/weather?units=Imperial&APPID=9cfaeb3dbd4832137f0fb5f0e12ca0f4&q=ribeira grande\n",
      "Processing Record 70 | Fairbanks\n",
      "http://api.openweathermap.org/data/2.5/weather?units=Imperial&APPID=9cfaeb3dbd4832137f0fb5f0e12ca0f4&q=fairbanks\n",
      "Processing Record 71 | Nanortalik\n",
      "http://api.openweathermap.org/data/2.5/weather?units=Imperial&APPID=9cfaeb3dbd4832137f0fb5f0e12ca0f4&q=nanortalik\n",
      "Processing Record 72 | Kodiak\n",
      "http://api.openweathermap.org/data/2.5/weather?units=Imperial&APPID=9cfaeb3dbd4832137f0fb5f0e12ca0f4&q=kodiak\n",
      "Processing Record 73 | Port Hardy\n",
      "http://api.openweathermap.org/data/2.5/weather?units=Imperial&APPID=9cfaeb3dbd4832137f0fb5f0e12ca0f4&q=port hardy\n",
      "Processing Record 74 | Berlevag\n",
      "http://api.openweathermap.org/data/2.5/weather?units=Imperial&APPID=9cfaeb3dbd4832137f0fb5f0e12ca0f4&q=berlevag\n",
      "Processing Record 75 | Alto Piquiri\n",
      "http://api.openweathermap.org/data/2.5/weather?units=Imperial&APPID=9cfaeb3dbd4832137f0fb5f0e12ca0f4&q=alto piquiri\n",
      "Processing Record 76 | Provincia di Gorizia\n",
      "http://api.openweathermap.org/data/2.5/weather?units=Imperial&APPID=9cfaeb3dbd4832137f0fb5f0e12ca0f4&q=gorizia\n",
      "Processing Record 77 | Kralendijk\n",
      "http://api.openweathermap.org/data/2.5/weather?units=Imperial&APPID=9cfaeb3dbd4832137f0fb5f0e12ca0f4&q=kralendijk\n",
      "Processing Record 78 | Vila Velha\n",
      "http://api.openweathermap.org/data/2.5/weather?units=Imperial&APPID=9cfaeb3dbd4832137f0fb5f0e12ca0f4&q=vila velha\n",
      "Processing Record 79 | Saint-Joseph\n",
      "http://api.openweathermap.org/data/2.5/weather?units=Imperial&APPID=9cfaeb3dbd4832137f0fb5f0e12ca0f4&q=saint-joseph\n",
      "Processing Record 80 | Indramayu\n",
      "http://api.openweathermap.org/data/2.5/weather?units=Imperial&APPID=9cfaeb3dbd4832137f0fb5f0e12ca0f4&q=indramayu\n",
      "Processing Record 81 | Alice Springs\n",
      "http://api.openweathermap.org/data/2.5/weather?units=Imperial&APPID=9cfaeb3dbd4832137f0fb5f0e12ca0f4&q=alice springs\n",
      "Processing Record 82 | Khani\n",
      "http://api.openweathermap.org/data/2.5/weather?units=Imperial&APPID=9cfaeb3dbd4832137f0fb5f0e12ca0f4&q=khani\n",
      "Processing Record 83 | Hermanus\n",
      "http://api.openweathermap.org/data/2.5/weather?units=Imperial&APPID=9cfaeb3dbd4832137f0fb5f0e12ca0f4&q=hermanus\n",
      "Processing Record 84 | Cherskiy\n",
      "http://api.openweathermap.org/data/2.5/weather?units=Imperial&APPID=9cfaeb3dbd4832137f0fb5f0e12ca0f4&q=cherskiy\n",
      "\n",
      "City not found. Skipping azimur\n",
      "\n",
      "Processing Record 85 | Hong Kong\n",
      "http://api.openweathermap.org/data/2.5/weather?units=Imperial&APPID=9cfaeb3dbd4832137f0fb5f0e12ca0f4&q=victoria\n",
      "Processing Record 86 | Camacha\n",
      "http://api.openweathermap.org/data/2.5/weather?units=Imperial&APPID=9cfaeb3dbd4832137f0fb5f0e12ca0f4&q=camacha\n",
      "Processing Record 87 | Ciudad Lazaro Cardenas\n",
      "http://api.openweathermap.org/data/2.5/weather?units=Imperial&APPID=9cfaeb3dbd4832137f0fb5f0e12ca0f4&q=lazaro cardenas\n",
      "Processing Record 88 | Jamestown\n",
      "http://api.openweathermap.org/data/2.5/weather?units=Imperial&APPID=9cfaeb3dbd4832137f0fb5f0e12ca0f4&q=jamestown\n",
      "\n",
      "City not found. Skipping babanusah\n",
      "\n",
      "Processing Record 89 | Harper\n",
      "http://api.openweathermap.org/data/2.5/weather?units=Imperial&APPID=9cfaeb3dbd4832137f0fb5f0e12ca0f4&q=harper\n",
      "\n",
      "City not found. Skipping mahadday weyne\n",
      "\n",
      "\n",
      "City not found. Skipping nizhneyansk\n",
      "\n",
      "Processing Record 90 | Oranjestad\n",
      "http://api.openweathermap.org/data/2.5/weather?units=Imperial&APPID=9cfaeb3dbd4832137f0fb5f0e12ca0f4&q=oranjestad\n",
      "Processing Record 91 | Trincomalee\n",
      "http://api.openweathermap.org/data/2.5/weather?units=Imperial&APPID=9cfaeb3dbd4832137f0fb5f0e12ca0f4&q=trincomalee\n",
      "Processing Record 92 | Nakamura\n",
      "http://api.openweathermap.org/data/2.5/weather?units=Imperial&APPID=9cfaeb3dbd4832137f0fb5f0e12ca0f4&q=nakamura\n",
      "Processing Record 93 | Petropavlovsk-Kamchatsky\n",
      "http://api.openweathermap.org/data/2.5/weather?units=Imperial&APPID=9cfaeb3dbd4832137f0fb5f0e12ca0f4&q=petropavlovsk-kamchatskiy\n",
      "Processing Record 94 | Clyde River\n",
      "http://api.openweathermap.org/data/2.5/weather?units=Imperial&APPID=9cfaeb3dbd4832137f0fb5f0e12ca0f4&q=clyde river\n",
      "\n",
      "City not found. Skipping bolungarvik\n",
      "\n",
      "Processing Record 95 | Valea Ierii\n",
      "http://api.openweathermap.org/data/2.5/weather?units=Imperial&APPID=9cfaeb3dbd4832137f0fb5f0e12ca0f4&q=valea ierii\n",
      "Processing Record 96 | Los Llanos de Aridane\n",
      "http://api.openweathermap.org/data/2.5/weather?units=Imperial&APPID=9cfaeb3dbd4832137f0fb5f0e12ca0f4&q=los llanos de aridane\n",
      "Processing Record 97 | Puerto Ayora\n",
      "http://api.openweathermap.org/data/2.5/weather?units=Imperial&APPID=9cfaeb3dbd4832137f0fb5f0e12ca0f4&q=puerto ayora\n",
      "Processing Record 98 | Nikolskoye\n",
      "http://api.openweathermap.org/data/2.5/weather?units=Imperial&APPID=9cfaeb3dbd4832137f0fb5f0e12ca0f4&q=nikolskoye\n",
      "\n",
      "City not found. Skipping amderma\n",
      "\n",
      "Processing Record 99 | Puri\n",
      "http://api.openweathermap.org/data/2.5/weather?units=Imperial&APPID=9cfaeb3dbd4832137f0fb5f0e12ca0f4&q=puri\n",
      "Processing Record 100 | Sabha\n",
      "http://api.openweathermap.org/data/2.5/weather?units=Imperial&APPID=9cfaeb3dbd4832137f0fb5f0e12ca0f4&q=sabha\n",
      "Processing Record 101 | Bengkulu\n",
      "http://api.openweathermap.org/data/2.5/weather?units=Imperial&APPID=9cfaeb3dbd4832137f0fb5f0e12ca0f4&q=bengkulu\n",
      "Processing Record 102 | Alamosa\n",
      "http://api.openweathermap.org/data/2.5/weather?units=Imperial&APPID=9cfaeb3dbd4832137f0fb5f0e12ca0f4&q=alamosa\n",
      "Processing Record 103 | Kiryat Gat\n",
      "http://api.openweathermap.org/data/2.5/weather?units=Imperial&APPID=9cfaeb3dbd4832137f0fb5f0e12ca0f4&q=gat\n",
      "Processing Record 104 | Yatou\n",
      "http://api.openweathermap.org/data/2.5/weather?units=Imperial&APPID=9cfaeb3dbd4832137f0fb5f0e12ca0f4&q=yatou\n",
      "Processing Record 105 | Mahebourg\n",
      "http://api.openweathermap.org/data/2.5/weather?units=Imperial&APPID=9cfaeb3dbd4832137f0fb5f0e12ca0f4&q=mahebourg\n",
      "Processing Record 106 | Zyryanka\n",
      "http://api.openweathermap.org/data/2.5/weather?units=Imperial&APPID=9cfaeb3dbd4832137f0fb5f0e12ca0f4&q=zyryanka\n",
      "Processing Record 107 | Thompson\n",
      "http://api.openweathermap.org/data/2.5/weather?units=Imperial&APPID=9cfaeb3dbd4832137f0fb5f0e12ca0f4&q=thompson\n",
      "Processing Record 108 | Juegang\n",
      "http://api.openweathermap.org/data/2.5/weather?units=Imperial&APPID=9cfaeb3dbd4832137f0fb5f0e12ca0f4&q=juegang\n",
      "\n",
      "City not found. Skipping sentyabrskiy\n",
      "\n",
      "Processing Record 109 | Port Alfred\n",
      "http://api.openweathermap.org/data/2.5/weather?units=Imperial&APPID=9cfaeb3dbd4832137f0fb5f0e12ca0f4&q=port alfred\n"
     ]
    },
    {
     "name": "stdout",
     "output_type": "stream",
     "text": [
      "Processing Record 110 | Chicama\n",
      "http://api.openweathermap.org/data/2.5/weather?units=Imperial&APPID=9cfaeb3dbd4832137f0fb5f0e12ca0f4&q=chicama\n",
      "Processing Record 111 | Lokosovo\n",
      "http://api.openweathermap.org/data/2.5/weather?units=Imperial&APPID=9cfaeb3dbd4832137f0fb5f0e12ca0f4&q=lokosovo\n",
      "Processing Record 112 | Airai\n",
      "http://api.openweathermap.org/data/2.5/weather?units=Imperial&APPID=9cfaeb3dbd4832137f0fb5f0e12ca0f4&q=airai\n",
      "Processing Record 113 | Torva\n",
      "http://api.openweathermap.org/data/2.5/weather?units=Imperial&APPID=9cfaeb3dbd4832137f0fb5f0e12ca0f4&q=torva\n",
      "Processing Record 114 | Remedios\n",
      "http://api.openweathermap.org/data/2.5/weather?units=Imperial&APPID=9cfaeb3dbd4832137f0fb5f0e12ca0f4&q=remedios\n",
      "Processing Record 115 | Umea\n",
      "http://api.openweathermap.org/data/2.5/weather?units=Imperial&APPID=9cfaeb3dbd4832137f0fb5f0e12ca0f4&q=umea\n",
      "Processing Record 116 | Codigoro\n",
      "http://api.openweathermap.org/data/2.5/weather?units=Imperial&APPID=9cfaeb3dbd4832137f0fb5f0e12ca0f4&q=codigoro\n",
      "Processing Record 117 | Torbay\n",
      "http://api.openweathermap.org/data/2.5/weather?units=Imperial&APPID=9cfaeb3dbd4832137f0fb5f0e12ca0f4&q=torbay\n",
      "Processing Record 118 | Behshahr\n",
      "http://api.openweathermap.org/data/2.5/weather?units=Imperial&APPID=9cfaeb3dbd4832137f0fb5f0e12ca0f4&q=behshahr\n",
      "Processing Record 119 | Wasilla\n",
      "http://api.openweathermap.org/data/2.5/weather?units=Imperial&APPID=9cfaeb3dbd4832137f0fb5f0e12ca0f4&q=wasilla\n",
      "Processing Record 120 | Ubari\n",
      "http://api.openweathermap.org/data/2.5/weather?units=Imperial&APPID=9cfaeb3dbd4832137f0fb5f0e12ca0f4&q=awbari\n"
     ]
    }
   ],
   "source": [
    "#open weatherMap API key\n",
    "\n",
    "api_key = weather_api_key\n",
    "\n",
    "#url for weatherMap API call\n",
    "url = \"http://api.openweathermap.org/data/2.5/weather?units=Imperial&APPID=\" + api_key\n",
    "\n",
    "#set up lists for data\n",
    "city_name = []\n",
    "country = []\n",
    "date = []\n",
    "cloudiness = []\n",
    "humidity = []\n",
    "max_temp = []\n",
    "wind_speed = []\n",
    "lat = []\n",
    "lng = []\n",
    "record=1\n",
    "error=0\n",
    "print(f'Beginning Data Retrieval')\n",
    "print(f'........................')\n",
    "\n",
    "#loop\n",
    "for city in cities:\n",
    "    try:\n",
    "        response = requests.get(f\"{url}&q={city}\").json()\n",
    "        city_name.append(response['name'])\n",
    "        country.append(response['sys']['country'])\n",
    "        date.append(response['dt'])\n",
    "        cloudiness.append(response['clouds']['all'])\n",
    "        humidity.append(response['main']['humidity'])\n",
    "        max_temp.append(response['main']['temp_max'])\n",
    "        wind_speed.append(response['wind']['speed'])\n",
    "        lat.append(response['coord']['lat'])\n",
    "        lng.append(response['coord']['lon'])\n",
    "        city_record = response['name']\n",
    "        \n",
    "        print(f'Processing Record {record} | {city_record}')\n",
    "        record= record + 1\n",
    "        print(f'{url}&q={city}')\n",
    "        # Increase counter by one \n",
    "        error +=1\n",
    "        time.sleep(1.01)\n",
    "            #if city not found\n",
    "    except KeyError:\n",
    "        print(f'\\nCity not found. Skipping {city}\\n')\n",
    "\n"
   ]
  },
  {
   "cell_type": "markdown",
   "metadata": {},
   "source": [
    "### Convert Raw Data to DataFrame\n",
    "* Export the city data into a .csv.\n",
    "* Display the DataFrame"
   ]
  },
  {
   "cell_type": "code",
   "execution_count": 5,
   "metadata": {},
   "outputs": [],
   "source": [
    "weather_dict = {\n",
    "    \"City\": city_name, \n",
    "    \"Country\": country, \n",
    "    \"Date\": date, \n",
    "    \"Cloudiness\": cloudiness,\n",
    "    \"Humidity\": humidity, \n",
    "    \"Max Temp\": max_temp, \n",
    "    \"Wind Speed\": wind_speed, \n",
    "    \"Lat\": lat, \n",
    "    \"Lng\": lng\n",
    "}"
   ]
  },
  {
   "cell_type": "code",
   "execution_count": 13,
   "metadata": {},
   "outputs": [
    {
     "data": {
      "text/plain": [
       "City          120\n",
       "Country       120\n",
       "Date          120\n",
       "Cloudiness    120\n",
       "Humidity      120\n",
       "Max Temp      120\n",
       "Wind Speed    120\n",
       "Lat           120\n",
       "Lng           120\n",
       "dtype: int64"
      ]
     },
     "execution_count": 13,
     "metadata": {},
     "output_type": "execute_result"
    }
   ],
   "source": [
    "weather_data = pd.DataFrame(weather_dict)\n",
    "weather_data.count()"
   ]
  },
  {
   "cell_type": "code",
   "execution_count": 17,
   "metadata": {},
   "outputs": [
    {
     "data": {
      "text/html": [
       "<div>\n",
       "<style scoped>\n",
       "    .dataframe tbody tr th:only-of-type {\n",
       "        vertical-align: middle;\n",
       "    }\n",
       "\n",
       "    .dataframe tbody tr th {\n",
       "        vertical-align: top;\n",
       "    }\n",
       "\n",
       "    .dataframe thead th {\n",
       "        text-align: right;\n",
       "    }\n",
       "</style>\n",
       "<table border=\"1\" class=\"dataframe\">\n",
       "  <thead>\n",
       "    <tr style=\"text-align: right;\">\n",
       "      <th></th>\n",
       "      <th>City</th>\n",
       "      <th>Country</th>\n",
       "      <th>Date</th>\n",
       "      <th>Cloudiness</th>\n",
       "      <th>Humidity</th>\n",
       "      <th>Max Temp</th>\n",
       "      <th>Wind Speed</th>\n",
       "      <th>Lat</th>\n",
       "      <th>Lng</th>\n",
       "    </tr>\n",
       "  </thead>\n",
       "  <tbody>\n",
       "    <tr>\n",
       "      <td>0</td>\n",
       "      <td>Bambous Virieux</td>\n",
       "      <td>MU</td>\n",
       "      <td>1580256981</td>\n",
       "      <td>20</td>\n",
       "      <td>88</td>\n",
       "      <td>73.00</td>\n",
       "      <td>6.93</td>\n",
       "      <td>-20.34</td>\n",
       "      <td>57.76</td>\n",
       "    </tr>\n",
       "    <tr>\n",
       "      <td>1</td>\n",
       "      <td>Bredasdorp</td>\n",
       "      <td>ZA</td>\n",
       "      <td>1580257224</td>\n",
       "      <td>81</td>\n",
       "      <td>88</td>\n",
       "      <td>66.20</td>\n",
       "      <td>6.96</td>\n",
       "      <td>-34.53</td>\n",
       "      <td>20.04</td>\n",
       "    </tr>\n",
       "    <tr>\n",
       "      <td>2</td>\n",
       "      <td>Rikitea</td>\n",
       "      <td>PF</td>\n",
       "      <td>1580257161</td>\n",
       "      <td>100</td>\n",
       "      <td>80</td>\n",
       "      <td>79.59</td>\n",
       "      <td>10.31</td>\n",
       "      <td>-23.12</td>\n",
       "      <td>-134.97</td>\n",
       "    </tr>\n",
       "    <tr>\n",
       "      <td>3</td>\n",
       "      <td>Iwaki</td>\n",
       "      <td>JP</td>\n",
       "      <td>1580257226</td>\n",
       "      <td>75</td>\n",
       "      <td>100</td>\n",
       "      <td>57.00</td>\n",
       "      <td>21.92</td>\n",
       "      <td>37.05</td>\n",
       "      <td>140.88</td>\n",
       "    </tr>\n",
       "    <tr>\n",
       "      <td>4</td>\n",
       "      <td>Paamiut</td>\n",
       "      <td>GL</td>\n",
       "      <td>1580257227</td>\n",
       "      <td>79</td>\n",
       "      <td>52</td>\n",
       "      <td>15.60</td>\n",
       "      <td>13.29</td>\n",
       "      <td>61.99</td>\n",
       "      <td>-49.67</td>\n",
       "    </tr>\n",
       "    <tr>\n",
       "      <td>5</td>\n",
       "      <td>Lebu</td>\n",
       "      <td>CL</td>\n",
       "      <td>1580257228</td>\n",
       "      <td>10</td>\n",
       "      <td>60</td>\n",
       "      <td>55.35</td>\n",
       "      <td>12.48</td>\n",
       "      <td>-37.62</td>\n",
       "      <td>-73.65</td>\n",
       "    </tr>\n",
       "    <tr>\n",
       "      <td>6</td>\n",
       "      <td>Shache</td>\n",
       "      <td>CN</td>\n",
       "      <td>1580257230</td>\n",
       "      <td>57</td>\n",
       "      <td>69</td>\n",
       "      <td>21.61</td>\n",
       "      <td>4.07</td>\n",
       "      <td>38.42</td>\n",
       "      <td>77.24</td>\n",
       "    </tr>\n",
       "    <tr>\n",
       "      <td>7</td>\n",
       "      <td>Saint-Pierre</td>\n",
       "      <td>RE</td>\n",
       "      <td>1580257231</td>\n",
       "      <td>75</td>\n",
       "      <td>68</td>\n",
       "      <td>72.00</td>\n",
       "      <td>6.93</td>\n",
       "      <td>-21.34</td>\n",
       "      <td>55.48</td>\n",
       "    </tr>\n",
       "    <tr>\n",
       "      <td>8</td>\n",
       "      <td>Ushuaia</td>\n",
       "      <td>AR</td>\n",
       "      <td>1580257232</td>\n",
       "      <td>75</td>\n",
       "      <td>81</td>\n",
       "      <td>42.80</td>\n",
       "      <td>32.21</td>\n",
       "      <td>-54.80</td>\n",
       "      <td>-68.30</td>\n",
       "    </tr>\n",
       "    <tr>\n",
       "      <td>9</td>\n",
       "      <td>San Juan Bautista</td>\n",
       "      <td>PE</td>\n",
       "      <td>1580257233</td>\n",
       "      <td>90</td>\n",
       "      <td>83</td>\n",
       "      <td>75.20</td>\n",
       "      <td>6.93</td>\n",
       "      <td>-14.01</td>\n",
       "      <td>-75.74</td>\n",
       "    </tr>\n",
       "    <tr>\n",
       "      <td>10</td>\n",
       "      <td>Alofi</td>\n",
       "      <td>NU</td>\n",
       "      <td>1580257159</td>\n",
       "      <td>40</td>\n",
       "      <td>74</td>\n",
       "      <td>86.00</td>\n",
       "      <td>6.93</td>\n",
       "      <td>-19.06</td>\n",
       "      <td>-169.92</td>\n",
       "    </tr>\n",
       "    <tr>\n",
       "      <td>11</td>\n",
       "      <td>Punta Arenas</td>\n",
       "      <td>CL</td>\n",
       "      <td>1580257155</td>\n",
       "      <td>75</td>\n",
       "      <td>61</td>\n",
       "      <td>48.20</td>\n",
       "      <td>29.97</td>\n",
       "      <td>-53.15</td>\n",
       "      <td>-70.92</td>\n",
       "    </tr>\n",
       "    <tr>\n",
       "      <td>12</td>\n",
       "      <td>Mount Gambier</td>\n",
       "      <td>AU</td>\n",
       "      <td>1580257236</td>\n",
       "      <td>40</td>\n",
       "      <td>77</td>\n",
       "      <td>64.40</td>\n",
       "      <td>4.70</td>\n",
       "      <td>-37.83</td>\n",
       "      <td>140.77</td>\n",
       "    </tr>\n",
       "    <tr>\n",
       "      <td>13</td>\n",
       "      <td>Albany</td>\n",
       "      <td>US</td>\n",
       "      <td>1580257237</td>\n",
       "      <td>90</td>\n",
       "      <td>59</td>\n",
       "      <td>33.80</td>\n",
       "      <td>13.87</td>\n",
       "      <td>42.60</td>\n",
       "      <td>-73.97</td>\n",
       "    </tr>\n",
       "    <tr>\n",
       "      <td>14</td>\n",
       "      <td>Barinas</td>\n",
       "      <td>VE</td>\n",
       "      <td>1580257239</td>\n",
       "      <td>23</td>\n",
       "      <td>51</td>\n",
       "      <td>83.77</td>\n",
       "      <td>7.05</td>\n",
       "      <td>8.62</td>\n",
       "      <td>-70.21</td>\n",
       "    </tr>\n",
       "    <tr>\n",
       "      <td>15</td>\n",
       "      <td>Mombetsu</td>\n",
       "      <td>JP</td>\n",
       "      <td>1580257240</td>\n",
       "      <td>75</td>\n",
       "      <td>85</td>\n",
       "      <td>21.20</td>\n",
       "      <td>1.12</td>\n",
       "      <td>44.35</td>\n",
       "      <td>143.35</td>\n",
       "    </tr>\n",
       "    <tr>\n",
       "      <td>16</td>\n",
       "      <td>Hobart</td>\n",
       "      <td>AU</td>\n",
       "      <td>1580257241</td>\n",
       "      <td>75</td>\n",
       "      <td>43</td>\n",
       "      <td>73.40</td>\n",
       "      <td>16.11</td>\n",
       "      <td>-42.88</td>\n",
       "      <td>147.33</td>\n",
       "    </tr>\n",
       "    <tr>\n",
       "      <td>17</td>\n",
       "      <td>Arraial do Cabo</td>\n",
       "      <td>BR</td>\n",
       "      <td>1580257155</td>\n",
       "      <td>40</td>\n",
       "      <td>94</td>\n",
       "      <td>77.00</td>\n",
       "      <td>3.36</td>\n",
       "      <td>-22.97</td>\n",
       "      <td>-42.03</td>\n",
       "    </tr>\n",
       "    <tr>\n",
       "      <td>18</td>\n",
       "      <td>Paramonga</td>\n",
       "      <td>PE</td>\n",
       "      <td>1580257243</td>\n",
       "      <td>65</td>\n",
       "      <td>89</td>\n",
       "      <td>70.66</td>\n",
       "      <td>9.10</td>\n",
       "      <td>-10.67</td>\n",
       "      <td>-77.83</td>\n",
       "    </tr>\n",
       "    <tr>\n",
       "      <td>19</td>\n",
       "      <td>Zeya</td>\n",
       "      <td>RU</td>\n",
       "      <td>1580257244</td>\n",
       "      <td>0</td>\n",
       "      <td>82</td>\n",
       "      <td>-4.76</td>\n",
       "      <td>3.42</td>\n",
       "      <td>53.75</td>\n",
       "      <td>127.27</td>\n",
       "    </tr>\n",
       "  </tbody>\n",
       "</table>\n",
       "</div>"
      ],
      "text/plain": [
       "                 City Country        Date  Cloudiness  Humidity  Max Temp  \\\n",
       "0     Bambous Virieux      MU  1580256981          20        88     73.00   \n",
       "1          Bredasdorp      ZA  1580257224          81        88     66.20   \n",
       "2             Rikitea      PF  1580257161         100        80     79.59   \n",
       "3               Iwaki      JP  1580257226          75       100     57.00   \n",
       "4             Paamiut      GL  1580257227          79        52     15.60   \n",
       "5                Lebu      CL  1580257228          10        60     55.35   \n",
       "6              Shache      CN  1580257230          57        69     21.61   \n",
       "7        Saint-Pierre      RE  1580257231          75        68     72.00   \n",
       "8             Ushuaia      AR  1580257232          75        81     42.80   \n",
       "9   San Juan Bautista      PE  1580257233          90        83     75.20   \n",
       "10              Alofi      NU  1580257159          40        74     86.00   \n",
       "11       Punta Arenas      CL  1580257155          75        61     48.20   \n",
       "12      Mount Gambier      AU  1580257236          40        77     64.40   \n",
       "13             Albany      US  1580257237          90        59     33.80   \n",
       "14            Barinas      VE  1580257239          23        51     83.77   \n",
       "15           Mombetsu      JP  1580257240          75        85     21.20   \n",
       "16             Hobart      AU  1580257241          75        43     73.40   \n",
       "17    Arraial do Cabo      BR  1580257155          40        94     77.00   \n",
       "18          Paramonga      PE  1580257243          65        89     70.66   \n",
       "19               Zeya      RU  1580257244           0        82     -4.76   \n",
       "\n",
       "    Wind Speed    Lat     Lng  \n",
       "0         6.93 -20.34   57.76  \n",
       "1         6.96 -34.53   20.04  \n",
       "2        10.31 -23.12 -134.97  \n",
       "3        21.92  37.05  140.88  \n",
       "4        13.29  61.99  -49.67  \n",
       "5        12.48 -37.62  -73.65  \n",
       "6         4.07  38.42   77.24  \n",
       "7         6.93 -21.34   55.48  \n",
       "8        32.21 -54.80  -68.30  \n",
       "9         6.93 -14.01  -75.74  \n",
       "10        6.93 -19.06 -169.92  \n",
       "11       29.97 -53.15  -70.92  \n",
       "12        4.70 -37.83  140.77  \n",
       "13       13.87  42.60  -73.97  \n",
       "14        7.05   8.62  -70.21  \n",
       "15        1.12  44.35  143.35  \n",
       "16       16.11 -42.88  147.33  \n",
       "17        3.36 -22.97  -42.03  \n",
       "18        9.10 -10.67  -77.83  \n",
       "19        3.42  53.75  127.27  "
      ]
     },
     "execution_count": 17,
     "metadata": {},
     "output_type": "execute_result"
    }
   ],
   "source": [
    "weather_data.to_csv(\"output_data/weather_data.csv\") \n",
    "weather_data.head(20)"
   ]
  },
  {
   "cell_type": "code",
   "execution_count": 22,
   "metadata": {},
   "outputs": [
    {
     "data": {
      "text/html": [
       "<div>\n",
       "<style scoped>\n",
       "    .dataframe tbody tr th:only-of-type {\n",
       "        vertical-align: middle;\n",
       "    }\n",
       "\n",
       "    .dataframe tbody tr th {\n",
       "        vertical-align: top;\n",
       "    }\n",
       "\n",
       "    .dataframe thead th {\n",
       "        text-align: right;\n",
       "    }\n",
       "</style>\n",
       "<table border=\"1\" class=\"dataframe\">\n",
       "  <thead>\n",
       "    <tr style=\"text-align: right;\">\n",
       "      <th></th>\n",
       "      <th>City</th>\n",
       "      <th>Country</th>\n",
       "      <th>Date</th>\n",
       "      <th>Cloudiness</th>\n",
       "      <th>Humidity</th>\n",
       "      <th>Max Temp</th>\n",
       "      <th>Wind Speed</th>\n",
       "      <th>Lat</th>\n",
       "      <th>Lng</th>\n",
       "    </tr>\n",
       "  </thead>\n",
       "  <tbody>\n",
       "    <tr>\n",
       "      <td>1</td>\n",
       "      <td>Bambous Virieux</td>\n",
       "      <td>MU</td>\n",
       "      <td>1580256981</td>\n",
       "      <td>20</td>\n",
       "      <td>88</td>\n",
       "      <td>73.00</td>\n",
       "      <td>6.93</td>\n",
       "      <td>-20.34</td>\n",
       "      <td>57.76</td>\n",
       "    </tr>\n",
       "    <tr>\n",
       "      <td>2</td>\n",
       "      <td>Bredasdorp</td>\n",
       "      <td>ZA</td>\n",
       "      <td>1580257224</td>\n",
       "      <td>81</td>\n",
       "      <td>88</td>\n",
       "      <td>66.20</td>\n",
       "      <td>6.96</td>\n",
       "      <td>-34.53</td>\n",
       "      <td>20.04</td>\n",
       "    </tr>\n",
       "    <tr>\n",
       "      <td>3</td>\n",
       "      <td>Rikitea</td>\n",
       "      <td>PF</td>\n",
       "      <td>1580257161</td>\n",
       "      <td>100</td>\n",
       "      <td>80</td>\n",
       "      <td>79.59</td>\n",
       "      <td>10.31</td>\n",
       "      <td>-23.12</td>\n",
       "      <td>-134.97</td>\n",
       "    </tr>\n",
       "    <tr>\n",
       "      <td>4</td>\n",
       "      <td>Iwaki</td>\n",
       "      <td>JP</td>\n",
       "      <td>1580257226</td>\n",
       "      <td>75</td>\n",
       "      <td>100</td>\n",
       "      <td>57.00</td>\n",
       "      <td>21.92</td>\n",
       "      <td>37.05</td>\n",
       "      <td>140.88</td>\n",
       "    </tr>\n",
       "    <tr>\n",
       "      <td>5</td>\n",
       "      <td>Paamiut</td>\n",
       "      <td>GL</td>\n",
       "      <td>1580257227</td>\n",
       "      <td>79</td>\n",
       "      <td>52</td>\n",
       "      <td>15.60</td>\n",
       "      <td>13.29</td>\n",
       "      <td>61.99</td>\n",
       "      <td>-49.67</td>\n",
       "    </tr>\n",
       "    <tr>\n",
       "      <td>...</td>\n",
       "      <td>...</td>\n",
       "      <td>...</td>\n",
       "      <td>...</td>\n",
       "      <td>...</td>\n",
       "      <td>...</td>\n",
       "      <td>...</td>\n",
       "      <td>...</td>\n",
       "      <td>...</td>\n",
       "      <td>...</td>\n",
       "    </tr>\n",
       "    <tr>\n",
       "      <td>116</td>\n",
       "      <td>Codigoro</td>\n",
       "      <td>IT</td>\n",
       "      <td>1580257357</td>\n",
       "      <td>34</td>\n",
       "      <td>81</td>\n",
       "      <td>48.99</td>\n",
       "      <td>4.70</td>\n",
       "      <td>44.83</td>\n",
       "      <td>12.11</td>\n",
       "    </tr>\n",
       "    <tr>\n",
       "      <td>117</td>\n",
       "      <td>Torbay</td>\n",
       "      <td>CA</td>\n",
       "      <td>1580257358</td>\n",
       "      <td>90</td>\n",
       "      <td>100</td>\n",
       "      <td>30.99</td>\n",
       "      <td>5.82</td>\n",
       "      <td>47.67</td>\n",
       "      <td>-52.73</td>\n",
       "    </tr>\n",
       "    <tr>\n",
       "      <td>118</td>\n",
       "      <td>Behshahr</td>\n",
       "      <td>IR</td>\n",
       "      <td>1580257359</td>\n",
       "      <td>2</td>\n",
       "      <td>86</td>\n",
       "      <td>37.40</td>\n",
       "      <td>2.24</td>\n",
       "      <td>36.69</td>\n",
       "      <td>53.55</td>\n",
       "    </tr>\n",
       "    <tr>\n",
       "      <td>119</td>\n",
       "      <td>Wasilla</td>\n",
       "      <td>US</td>\n",
       "      <td>1580257360</td>\n",
       "      <td>75</td>\n",
       "      <td>65</td>\n",
       "      <td>10.99</td>\n",
       "      <td>3.36</td>\n",
       "      <td>61.58</td>\n",
       "      <td>-149.44</td>\n",
       "    </tr>\n",
       "    <tr>\n",
       "      <td>120</td>\n",
       "      <td>Ubari</td>\n",
       "      <td>LY</td>\n",
       "      <td>1580257361</td>\n",
       "      <td>0</td>\n",
       "      <td>19</td>\n",
       "      <td>60.75</td>\n",
       "      <td>10.04</td>\n",
       "      <td>26.59</td>\n",
       "      <td>12.78</td>\n",
       "    </tr>\n",
       "  </tbody>\n",
       "</table>\n",
       "<p>120 rows × 9 columns</p>\n",
       "</div>"
      ],
      "text/plain": [
       "                City Country        Date  Cloudiness  Humidity  Max Temp  \\\n",
       "1    Bambous Virieux      MU  1580256981          20        88     73.00   \n",
       "2         Bredasdorp      ZA  1580257224          81        88     66.20   \n",
       "3            Rikitea      PF  1580257161         100        80     79.59   \n",
       "4              Iwaki      JP  1580257226          75       100     57.00   \n",
       "5            Paamiut      GL  1580257227          79        52     15.60   \n",
       "..               ...     ...         ...         ...       ...       ...   \n",
       "116         Codigoro      IT  1580257357          34        81     48.99   \n",
       "117           Torbay      CA  1580257358          90       100     30.99   \n",
       "118         Behshahr      IR  1580257359           2        86     37.40   \n",
       "119          Wasilla      US  1580257360          75        65     10.99   \n",
       "120            Ubari      LY  1580257361           0        19     60.75   \n",
       "\n",
       "     Wind Speed    Lat     Lng  \n",
       "1          6.93 -20.34   57.76  \n",
       "2          6.96 -34.53   20.04  \n",
       "3         10.31 -23.12 -134.97  \n",
       "4         21.92  37.05  140.88  \n",
       "5         13.29  61.99  -49.67  \n",
       "..          ...    ...     ...  \n",
       "116        4.70  44.83   12.11  \n",
       "117        5.82  47.67  -52.73  \n",
       "118        2.24  36.69   53.55  \n",
       "119        3.36  61.58 -149.44  \n",
       "120       10.04  26.59   12.78  \n",
       "\n",
       "[120 rows x 9 columns]"
      ]
     },
     "execution_count": 22,
     "metadata": {},
     "output_type": "execute_result"
    }
   ],
   "source": [
    "weather_data.index = np.arange(1, len(weather_data)+1)\n",
    "weather_data"
   ]
  },
  {
   "cell_type": "markdown",
   "metadata": {},
   "source": [
    "### Plotting the Data\n",
    "* Use proper labeling of the plots using plot titles (including date of analysis) and axes labels.\n",
    "* Save the plotted figures as .pngs."
   ]
  },
  {
   "cell_type": "markdown",
   "metadata": {},
   "source": [
    "#### Latitude vs. Temperature Plot"
   ]
  },
  {
   "cell_type": "code",
   "execution_count": 23,
   "metadata": {},
   "outputs": [
    {
     "data": {
      "image/png": "[encoded data removed]",
      "text/plain": [
       "<Figure size 432x288 with 1 Axes>"
      ]
     },
     "metadata": {
      "needs_background": "light"
     },
     "output_type": "display_data"
    }
   ],
   "source": [
    "# Create a Scatter Plot for temperature vs latitude\n",
    "plt.scatter(weather_data[\"Lat\"],weather_data[\"Max Temp\"],edgecolors=\"white\",facecolors=\"darkblue\")\n",
    "plt.title(\"City Latitude vs. Max Temperature (01/28/20)\")\n",
    "plt.grid (b=True,which=\"major\",axis=\"both\",linestyle=\"-\",color=\"lightgrey\")\n",
    "plt.xlabel('Latitude')\n",
    "plt.ylabel('Max Temperature')\n",
    "plt.savefig(\"output_data/Latitude vs. Temperature.png\")\n",
    "plt.show()"
   ]
  },
  {
   "cell_type": "markdown",
   "metadata": {},
   "source": [
    "#### Latitude vs. Humidity Plot"
   ]
  },
  {
   "cell_type": "code",
   "execution_count": 24,
   "metadata": {},
   "outputs": [
    {
     "data": {
      "image/png": "[encoded data removed]",
      "text/plain": [
       "<Figure size 432x288 with 1 Axes>"
      ]
     },
     "metadata": {
      "needs_background": "light"
     },
     "output_type": "display_data"
    }
   ],
   "source": [
    "# Create a Scatter Plot for humidity vs latitude\n",
    "plt.scatter(weather_data[\"Lat\"],weather_data[\"Humidity\"],edgecolors=\"white\",facecolors=\"darkblue\")\n",
    "plt.title(\"City Latitude vs. Humidity (01/28/20)\")\n",
    "plt.grid (b=True,which=\"major\",axis=\"both\",linestyle=\"-\",color=\"lightgrey\")\n",
    "plt.xlabel('Latitude')\n",
    "plt.ylabel('Humidity')\n",
    "plt.savefig(\"output_data/Latitude vs. Humidity.png\")\n",
    "plt.show()"
   ]
  },
  {
   "cell_type": "markdown",
   "metadata": {},
   "source": [
    "#### Latitude vs. Cloudiness Plot"
   ]
  },
  {
   "cell_type": "code",
   "execution_count": 25,
   "metadata": {},
   "outputs": [
    {
     "data": {
      "image/png": "[encoded data removed]",
      "text/plain": [
       "<Figure size 432x288 with 1 Axes>"
      ]
     },
     "metadata": {
      "needs_background": "light"
     },
     "output_type": "display_data"
    }
   ],
   "source": [
    "# Create a Scatter Plot for cloudiness vs latitude\n",
    "plt.scatter(weather_data[\"Lat\"],weather_data[\"Cloudiness\"],edgecolors=\"white\",facecolors=\"darkblue\")\n",
    "plt.title(\"City Latitude vs. Cloudiness (01/28/20)\")\n",
    "plt.grid (b=True,which=\"major\",axis=\"both\",linestyle=\"-\",color=\"lightgrey\")\n",
    "plt.xlabel('Latitude')\n",
    "plt.ylabel('Cloudiness')\n",
    "plt.savefig(\"output_data/Latitude vs. Cloudiness.png\")\n",
    "plt.show()"
   ]
  },
  {
   "cell_type": "markdown",
   "metadata": {},
   "source": [
    "#### Latitude vs. Wind Speed Plot"
   ]
  },
  {
   "cell_type": "code",
   "execution_count": 26,
   "metadata": {},
   "outputs": [
    {
     "data": {
      "image/png": "[encoded data removed]",
      "text/plain": [
       "<Figure size 432x288 with 1 Axes>"
      ]
     },
     "metadata": {
      "needs_background": "light"
     },
     "output_type": "display_data"
    }
   ],
   "source": [
    "# Create a Scatter Plot for wind speed vs latitude\n",
    "plt.scatter(weather_data[\"Lat\"],weather_data[\"Wind Speed\"],edgecolors=\"white\",facecolors=\"darkblue\")\n",
    "plt.title(\"City Latitude vs. Wind Speed (01/28/20)\")\n",
    "plt.grid (b=True,which=\"major\",axis=\"both\",linestyle=\"-\",color=\"lightgrey\")\n",
    "plt.xlabel('Latitude')\n",
    "plt.ylabel('Wind Speed')\n",
    "plt.savefig(\"output_data/Latitude vs. Wind Speed.png\")\n",
    "plt.show()"
   ]
  },
  {
   "cell_type": "markdown",
   "metadata": {},
   "source": [
    "## Linear Regression"
   ]
  },
  {
   "cell_type": "code",
   "execution_count": 27,
   "metadata": {},
   "outputs": [
    {
     "name": "stdout",
     "output_type": "stream",
     "text": [
      "1      75.293622\n",
      "2      85.358490\n",
      "3      77.265457\n",
      "4      34.587294\n",
      "5      16.897526\n",
      "         ...    \n",
      "116    29.068994\n",
      "117    27.054602\n",
      "118    34.842640\n",
      "119    17.188336\n",
      "120    42.006499\n",
      "Name: Lat, Length: 120, dtype: float64\n"
     ]
    }
   ],
   "source": [
    "# OPTIONAL: Create a function to create Linear Regression plots\n",
    "\n",
    "# Perform a linear regression on temperature vs. latitude\n",
    "(slope, intercept, rvalue, pvalue, stderr) = stats.linregress(weather_data[\"Lat\"],weather_data[\"Max Temp\"])\n",
    "\n",
    "# Get regression values\n",
    "regress_values = (weather_data[\"Lat\"]) * slope + intercept\n",
    "print(regress_values)"
   ]
  },
  {
   "cell_type": "code",
   "execution_count": 28,
   "metadata": {},
   "outputs": [
    {
     "name": "stdout",
     "output_type": "stream",
     "text": [
      "y = -0.71x +60.87\n"
     ]
    }
   ],
   "source": [
    "# Create line equation string\n",
    "line_eq = \"y = \" + str(round(slope,2)) + \"x +\" + str(round(intercept,2))\n",
    "print(line_eq)"
   ]
  },
  {
   "cell_type": "code",
   "execution_count": 29,
   "metadata": {},
   "outputs": [
    {
     "name": "stdout",
     "output_type": "stream",
     "text": [
      "The r-squared is: -0.8026402647041034\n"
     ]
    },
    {
     "data": {
      "image/png": "[encoded data removed]",
      "text/plain": [
       "<Figure size 432x288 with 1 Axes>"
      ]
     },
     "metadata": {
      "needs_background": "light"
     },
     "output_type": "display_data"
    }
   ],
   "source": [
    "# Create Plot\n",
    "plt.scatter(weather_data[\"Lat\"],weather_data[\"Max Temp\"],edgecolors=\"white\",facecolors=\"darkblue\")\n",
    "plt.title(\"Latitude vs. Max Temperature (01/28/20)\")\n",
    "plt.plot(weather_data[\"Lat\"],regress_values,\"r-\")\n",
    "plt.grid (b=True,which=\"major\",axis=\"both\",linestyle=\"-\",color=\"lightgrey\")\n",
    "# Label plot and annotate the line equation\n",
    "plt.xlabel('Latitude')\n",
    "plt.ylabel('Max Temperature')\n",
    "plt.annotate(line_eq,(20,15),fontsize=15,color=\"red\")\n",
    "\n",
    "# Print r square value\n",
    "print(f\"The r-squared is: {rvalue}\")\n",
    "plt.savefig(\"output_data/Latitude vs. Max Temperature(linear regression).png\")\n",
    "# Show plot\n",
    "plt.show()"
   ]
  },
  {
   "cell_type": "code",
   "execution_count": 30,
   "metadata": {},
   "outputs": [],
   "source": [
    "# Create Northern and Southern Hemisphere DataFrames\n",
    "# Create Northern and Southern Hemisphere DataFrames\n",
    "northern_df = weather_data.loc[pd.to_numeric(weather_data[\"Lat\"]).astype(float) > 0, :]\n",
    "southern_df = weather_data.loc[pd.to_numeric(weather_data[\"Lat\"]).astype(float) < 0, :]"
   ]
  },
  {
   "cell_type": "markdown",
   "metadata": {},
   "source": [
    "####  Northern Hemisphere - Max Temp vs. Latitude Linear Regression"
   ]
  },
  {
   "cell_type": "code",
   "execution_count": 31,
   "metadata": {},
   "outputs": [
    {
     "name": "stdout",
     "output_type": "stream",
     "text": [
      "4      41.937297\n",
      "5       6.388880\n",
      "7      39.984557\n",
      "14     34.026563\n",
      "15     82.460211\n",
      "         ...    \n",
      "116    30.848015\n",
      "117    26.800000\n",
      "118    42.450426\n",
      "119     6.973277\n",
      "120    56.846537\n",
      "Name: Lat, Length: 79, dtype: float64\n"
     ]
    }
   ],
   "source": [
    "x_values = pd.to_numeric(northern_df['Lat']).astype(float)\n",
    "y_values = pd.to_numeric(northern_df['Max Temp']).astype(float)\n",
    "# Perform a linear regression for Northern Hemisphere on temperature vs. latitude\n",
    "(slope, intercept, rvalue, pvalue, stderr) = linregress(x_values, y_values)\n",
    "# Get regression values\n",
    "regress_values = x_values * slope + intercept\n",
    "print(regress_values)"
   ]
  },
  {
   "cell_type": "code",
   "execution_count": 32,
   "metadata": {},
   "outputs": [
    {
     "name": "stdout",
     "output_type": "stream",
     "text": [
      "y = -1.43x +94.75\n"
     ]
    }
   ],
   "source": [
    "# Create line equation string for Northern Hemisphere\n",
    "line_eq = \"y = \" + str(round(slope,2)) + \"x +\" + str(round(intercept,2))\n",
    "print(line_eq)"
   ]
  },
  {
   "cell_type": "code",
   "execution_count": 33,
   "metadata": {},
   "outputs": [
    {
     "name": "stdout",
     "output_type": "stream",
     "text": [
      "The r-squared is: -0.9169756629372866\n"
     ]
    },
    {
     "data": {
      "image/png": "[encoded data removed]",
      "text/plain": [
       "<Figure size 432x288 with 1 Axes>"
      ]
     },
     "metadata": {
      "needs_background": "light"
     },
     "output_type": "display_data"
    }
   ],
   "source": [
    "# Create Plot\n",
    "plt.scatter(x_values,y_values,edgecolors=\"white\",facecolors=\"darkblue\")\n",
    "plt.title('Northern Hemisphere - Max Temp vs. Lat Linear Regression (01/28/20)')\n",
    "plt.plot(x_values,regress_values,\"r-\")\n",
    "plt.grid (b=True,which=\"major\",axis=\"both\",linestyle=\"-\",color=\"lightgrey\")\n",
    "# Label plot and annotate the line equation\n",
    "plt.xlabel('Latitude')\n",
    "plt.ylabel('Max Temperature')\n",
    "plt.annotate(line_eq,(20,15),fontsize=15,color=\"red\")\n",
    "# Print r square value\n",
    "print(f\"The r-squared is: {rvalue}\")\n",
    "plt.savefig(\"output_data/Latitude vs. Max Temperature(linear regression Northern Hemisphere).png\")\n",
    "plt.show()"
   ]
  },
  {
   "cell_type": "markdown",
   "metadata": {},
   "source": [
    "####  Southern Hemisphere - Max Temp vs. Latitude Linear Regression"
   ]
  },
  {
   "cell_type": "code",
   "execution_count": 34,
   "metadata": {},
   "outputs": [
    {
     "name": "stdout",
     "output_type": "stream",
     "text": [
      "1      75.529400\n",
      "2      68.747876\n",
      "3      74.200814\n",
      "6      67.271138\n",
      "8      75.051492\n",
      "9      59.060666\n",
      "10     78.554562\n",
      "11     76.141123\n",
      "12     59.849215\n",
      "13     67.170777\n",
      "17     64.757338\n",
      "18     74.272500\n",
      "19     80.150778\n",
      "21     62.979517\n",
      "23     73.479172\n",
      "25     83.481801\n",
      "27     80.566558\n",
      "32     73.364474\n",
      "33     63.175460\n",
      "34     73.096845\n",
      "42     65.584120\n",
      "46     75.118399\n",
      "48     67.089532\n",
      "55     76.776742\n",
      "58     63.132448\n",
      "60     69.168435\n",
      "62     76.619032\n",
      "65     83.983605\n",
      "66     69.980880\n",
      "75     73.765917\n",
      "78     75.534179\n",
      "79     75.037154\n",
      "80     82.224901\n",
      "81     73.923627\n",
      "83     68.800446\n",
      "97     84.896411\n",
      "101    83.434010\n",
      "105    75.495947\n",
      "109    69.197110\n",
      "110    81.503259\n",
      "112    80.982339\n",
      "Name: Lat, dtype: float64\n"
     ]
    }
   ],
   "source": [
    "x_values = pd.to_numeric(southern_df['Lat']).astype(float)\n",
    "y_values = pd.to_numeric(southern_df['Max Temp']).astype(float)\n",
    "# Perform a linear regression for Southern Hemisphere on temperature vs. latitude\n",
    "(slope, intercept, rvalue, pvalue, stderr) = linregress(x_values, y_values)\n",
    "# Get regression values\n",
    "regress_values = x_values * slope + intercept\n",
    "print(regress_values)"
   ]
  },
  {
   "cell_type": "code",
   "execution_count": 35,
   "metadata": {},
   "outputs": [
    {
     "name": "stdout",
     "output_type": "stream",
     "text": [
      "y = 0.48x +85.25\n"
     ]
    }
   ],
   "source": [
    "# Create line equation string for Southern Hemisphere\n",
    "line_eq = \"y = \" + str(round(slope,2)) + \"x +\" + str(round(intercept,2))\n",
    "print(line_eq)"
   ]
  },
  {
   "cell_type": "code",
   "execution_count": 36,
   "metadata": {},
   "outputs": [
    {
     "name": "stdout",
     "output_type": "stream",
     "text": [
      "The r-squared is: 0.6589117454812188\n"
     ]
    },
    {
     "data": {
      "image/png": "[encoded data removed]",
      "text/plain": [
       "<Figure size 432x288 with 1 Axes>"
      ]
     },
     "metadata": {
      "needs_background": "light"
     },
     "output_type": "display_data"
    }
   ],
   "source": [
    "# Create Plot\n",
    "plt.scatter(x_values,y_values,edgecolors=\"white\",facecolors=\"darkblue\")\n",
    "plt.title('Southern Hemisphere - Max Temp vs. Lat Linear Regression (01/28/20)')\n",
    "plt.plot(x_values,regress_values,\"r-\")\n",
    "plt.grid (b=True,which=\"major\",axis=\"both\",linestyle=\"-\",color=\"lightgrey\")\n",
    "# Label plot and annotate the line equation\n",
    "plt.xlabel('Latitude')\n",
    "plt.ylabel('Max Temperature')\n",
    "plt.annotate(line_eq,(20,15),fontsize=15,color=\"red\")\n",
    "# Print r square value\n",
    "print(f\"The r-squared is: {rvalue}\")\n",
    "plt.savefig(\"output_data/Latitude vs. Max Temperature(linear regression Southern Hemisphere).png\")\n",
    "plt.show()"
   ]
  },
  {
   "cell_type": "markdown",
   "metadata": {},
   "source": [
    "####  Northern Hemisphere - Humidity (%) vs. Latitude Linear Regression"
   ]
  },
  {
   "cell_type": "code",
   "execution_count": 37,
   "metadata": {},
   "outputs": [
    {
     "name": "stdout",
     "output_type": "stream",
     "text": [
      "4      75.078116\n",
      "5      83.402368\n",
      "7      75.535383\n",
      "14     76.930546\n",
      "15     65.589003\n",
      "         ...    \n",
      "116    77.674856\n",
      "117    78.622766\n",
      "118    74.957959\n",
      "119    83.265522\n",
      "120    71.586870\n",
      "Name: Lat, Length: 79, dtype: float64\n",
      "y = 0.33x +62.71\n",
      "The r-squared is: 0.37920899559016036\n"
     ]
    },
    {
     "data": {
      "image/png": "[encoded data removed]",
      "text/plain": [
       "<Figure size 432x288 with 1 Axes>"
      ]
     },
     "metadata": {
      "needs_background": "light"
     },
     "output_type": "display_data"
    }
   ],
   "source": [
    "x_values = pd.to_numeric(northern_df['Lat']).astype(float)\n",
    "y_values = pd.to_numeric(northern_df['Humidity']).astype(float)\n",
    "(slope, intercept, rvalue, pvalue, stderr) = linregress(x_values, y_values)\n",
    "regress_values = x_values * slope + intercept\n",
    "print(regress_values)\n",
    "line_eq = \"y = \" + str(round(slope,2)) + \"x +\" + str(round(intercept,2))\n",
    "print(line_eq)\n",
    "plt.scatter(x_values,y_values,edgecolors=\"white\",facecolors=\"darkblue\")\n",
    "plt.title('Northern Hemisphere - Humidity vs. Lat Linear Regression (01/28/20)')\n",
    "plt.plot(x_values,regress_values,\"r-\")\n",
    "plt.grid (b=True,which=\"major\",axis=\"both\",linestyle=\"-\",color=\"lightgrey\")\n",
    "plt.xlabel('Latitude')\n",
    "plt.ylabel('Humidity')\n",
    "plt.annotate(line_eq,(20,15),fontsize=15,color=\"red\")\n",
    "print(f\"The r-squared is: {rvalue}\")\n",
    "plt.savefig(\"output_data/Latitude vs. Humidity(linear regression Northern Hemisphere).png\")\n",
    "plt.show()"
   ]
  },
  {
   "cell_type": "markdown",
   "metadata": {},
   "source": [
    "####  Southern Hemisphere - Humidity (%) vs. Latitude Linear Regression"
   ]
  },
  {
   "cell_type": "code",
   "execution_count": 38,
   "metadata": {},
   "outputs": [
    {
     "name": "stdout",
     "output_type": "stream",
     "text": [
      "1      72.526614\n",
      "2      66.104931\n",
      "3      71.268525\n",
      "6      64.706552\n",
      "8      72.074064\n",
      "9      56.931746\n",
      "10     75.391254\n",
      "11     73.105877\n",
      "12     57.678453\n",
      "13     64.611517\n",
      "17     62.326140\n",
      "18     71.336408\n",
      "19     76.902771\n",
      "21     60.642655\n",
      "23     70.585175\n",
      "25     80.057043\n",
      "27     77.296489\n",
      "32     70.476563\n",
      "33     60.828200\n",
      "34     70.223135\n",
      "42     63.109051\n",
      "46     72.137421\n",
      "48     64.534583\n",
      "55     73.707769\n",
      "58     60.787471\n",
      "60     66.503175\n",
      "62     73.558427\n",
      "65     80.532220\n",
      "66     67.272510\n",
      "75     70.856705\n",
      "78     72.531139\n",
      "79     72.060487\n",
      "80     78.866837\n",
      "81     71.006046\n",
      "83     66.154712\n",
      "97     81.396591\n",
      "101    80.011788\n",
      "105    72.494935\n",
      "109    66.530328\n",
      "110    78.183487\n",
      "112    77.690207\n",
      "Name: Lat, dtype: float64\n",
      "y = 0.45x +81.73\n",
      "The r-squared is: 0.3148525772186683\n"
     ]
    },
    {
     "data": {
      "image/png": "[encoded data removed]",
      "text/plain": [
       "<Figure size 432x288 with 1 Axes>"
      ]
     },
     "metadata": {
      "needs_background": "light"
     },
     "output_type": "display_data"
    }
   ],
   "source": [
    "x_values = pd.to_numeric(southern_df['Lat']).astype(float)\n",
    "y_values = pd.to_numeric(southern_df['Humidity']).astype(float)\n",
    "(slope, intercept, rvalue, pvalue, stderr) = linregress(x_values, y_values)\n",
    "regress_values = x_values * slope + intercept\n",
    "print(regress_values)\n",
    "line_eq = \"y = \" + str(round(slope,2)) + \"x +\" + str(round(intercept,2))\n",
    "print(line_eq)\n",
    "plt.scatter(x_values,y_values,edgecolors=\"white\",facecolors=\"darkblue\")\n",
    "plt.title('Southern Hemisphere - Humidity vs. Lat Linear Regression (01/28/20)')\n",
    "plt.grid (b=True,which=\"major\",axis=\"both\",linestyle=\"-\",color=\"lightgrey\")\n",
    "plt.plot(x_values,regress_values,\"r-\")\n",
    "plt.xlabel('Latitude')\n",
    "plt.ylabel('Humidity')\n",
    "plt.annotate(line_eq,(20,15),fontsize=15,color=\"red\")\n",
    "print(f\"The r-squared is: {rvalue}\")\n",
    "plt.savefig(\"output_data/Latitude vs. Humidity(linear regression Southern Hemisphere).png\")\n",
    "plt.show()"
   ]
  },
  {
   "cell_type": "markdown",
   "metadata": {},
   "source": [
    "####  Northern Hemisphere - Cloudiness (%) vs. Latitude Linear Regression"
   ]
  },
  {
   "cell_type": "code",
   "execution_count": 39,
   "metadata": {},
   "outputs": [
    {
     "name": "stdout",
     "output_type": "stream",
     "text": [
      "4      51.979679\n",
      "5      72.767022\n",
      "7      53.121566\n",
      "14     56.605571\n",
      "15     28.283442\n",
      "         ...    \n",
      "116    58.464263\n",
      "117    60.831386\n",
      "118    51.679621\n",
      "119    72.425289\n",
      "120    43.261331\n",
      "Name: Lat, Length: 79, dtype: float64\n",
      "y = 0.83x +21.1\n",
      "The r-squared is: 0.4506268055413841\n"
     ]
    },
    {
     "data": {
      "image/png": "[encoded data removed]",
      "text/plain": [
       "<Figure size 432x288 with 1 Axes>"
      ]
     },
     "metadata": {
      "needs_background": "light"
     },
     "output_type": "display_data"
    }
   ],
   "source": [
    "x_values = pd.to_numeric(northern_df['Lat']).astype(float)\n",
    "y_values = pd.to_numeric(northern_df['Cloudiness']).astype(float)\n",
    "(slope, intercept, rvalue, pvalue, stderr) = linregress(x_values, y_values)\n",
    "regress_values = x_values * slope + intercept\n",
    "print(regress_values)\n",
    "line_eq = \"y = \" + str(round(slope,2)) + \"x +\" + str(round(intercept,2))\n",
    "print(line_eq)\n",
    "plt.scatter(x_values,y_values,edgecolors=\"white\",facecolors=\"darkblue\")\n",
    "plt.title('Northern Hemisphere - Cloudiness vs. Lat Linear Regression (01/28/20)')\n",
    "plt.grid (b=True,which=\"major\",axis=\"both\",linestyle=\"-\",color=\"lightgrey\")\n",
    "plt.plot(x_values,regress_values,\"r-\")\n",
    "plt.xlabel('Latitude')\n",
    "plt.ylabel('Cloudiness')\n",
    "plt.annotate(line_eq,(20,15),fontsize=15,color=\"red\")\n",
    "print(f\"The r-squared is: {rvalue}\")\n",
    "plt.savefig(\"output_data/Latitude vs. Cloudiness(linear regression Northern Hemisphere).png\")\n",
    "plt.show()"
   ]
  },
  {
   "cell_type": "markdown",
   "metadata": {},
   "source": [
    "####  Southern Hemisphere - Cloudiness (%) vs. Latitude Linear Regression"
   ]
  },
  {
   "cell_type": "code",
   "execution_count": 40,
   "metadata": {},
   "outputs": [
    {
     "name": "stdout",
     "output_type": "stream",
     "text": [
      "1      56.336050\n",
      "2      55.989706\n",
      "3      56.268196\n",
      "6      55.914286\n",
      "8      56.311642\n",
      "9      55.494963\n",
      "10     56.490550\n",
      "11     56.367291\n",
      "12     55.535236\n",
      "13     55.909160\n",
      "17     55.785902\n",
      "18     56.271858\n",
      "19     56.572071\n",
      "21     55.695106\n",
      "23     56.231341\n",
      "25     56.742192\n",
      "27     56.593306\n",
      "32     56.225483\n",
      "33     55.705113\n",
      "34     56.211815\n",
      "42     55.828127\n",
      "46     56.315059\n",
      "48     55.905011\n",
      "55     56.399754\n",
      "58     55.702916\n",
      "60     56.011184\n",
      "62     56.391699\n",
      "65     56.767820\n",
      "66     56.052677\n",
      "75     56.245986\n",
      "78     56.336294\n",
      "79     56.310910\n",
      "80     56.678000\n",
      "81     56.254040\n",
      "83     55.992390\n",
      "97     56.814439\n",
      "101    56.739752\n",
      "105    56.334341\n",
      "109    56.012649\n",
      "110    56.641145\n",
      "112    56.614541\n",
      "Name: Lat, dtype: float64\n",
      "y = 0.02x +56.83\n",
      "The r-squared is: 0.010194601104112225\n"
     ]
    },
    {
     "data": {
      "image/png": "[encoded data removed]",
      "text/plain": [
       "<Figure size 432x288 with 1 Axes>"
      ]
     },
     "metadata": {
      "needs_background": "light"
     },
     "output_type": "display_data"
    }
   ],
   "source": [
    "x_values = pd.to_numeric(southern_df['Lat']).astype(float)\n",
    "y_values = pd.to_numeric(southern_df['Cloudiness']).astype(float)\n",
    "(slope, intercept, rvalue, pvalue, stderr) = linregress(x_values, y_values)\n",
    "regress_values = x_values * slope + intercept\n",
    "print(regress_values)\n",
    "line_eq = \"y = \" + str(round(slope,2)) + \"x +\" + str(round(intercept,2))\n",
    "print(line_eq)\n",
    "plt.scatter(x_values,y_values,edgecolors=\"white\",facecolors=\"darkblue\")\n",
    "plt.title('Southern Hemisphere - Cloudiness vs. Lat Linear Regression (01/28/20)')\n",
    "plt.grid (b=True,which=\"major\",axis=\"both\",linestyle=\"-\",color=\"lightgrey\")\n",
    "plt.plot(x_values,regress_values,\"r-\")\n",
    "plt.xlabel('Latitude')\n",
    "plt.ylabel('Cloudiness')\n",
    "plt.annotate(line_eq,(20,15),fontsize=15,color=\"red\")\n",
    "print(f\"The r-squared is: {rvalue}\")\n",
    "plt.savefig(\"output_data/Latitude vs. Cloudiness(linear regression Southern Hemisphere).png\")\n",
    "plt.show()"
   ]
  },
  {
   "cell_type": "markdown",
   "metadata": {},
   "source": [
    "####  Northern Hemisphere - Wind Speed (mph) vs. Latitude Linear Regression"
   ]
  },
  {
   "cell_type": "code",
   "execution_count": 41,
   "metadata": {},
   "outputs": [
    {
     "name": "stdout",
     "output_type": "stream",
     "text": [
      "4      7.382354\n",
      "5      8.444363\n",
      "7      7.440692\n",
      "14     7.618687\n",
      "15     6.171731\n",
      "         ...   \n",
      "116    7.713646\n",
      "117    7.834581\n",
      "118    7.367024\n",
      "119    8.426904\n",
      "120    6.936940\n",
      "Name: Lat, Length: 79, dtype: float64\n",
      "y = 0.04x +5.8\n",
      "The r-squared is: 0.20918471771702699\n"
     ]
    },
    {
     "data": {
      "image/png": "[encoded data removed]",
      "text/plain": [
       "<Figure size 432x288 with 1 Axes>"
      ]
     },
     "metadata": {
      "needs_background": "light"
     },
     "output_type": "display_data"
    }
   ],
   "source": [
    "x_values = pd.to_numeric(northern_df['Lat']).astype(float)\n",
    "y_values = pd.to_numeric(northern_df['Wind Speed']).astype(float)\n",
    "(slope, intercept, rvalue, pvalue, stderr) = linregress(x_values, y_values)\n",
    "regress_values = x_values * slope + intercept\n",
    "print(regress_values)\n",
    "line_eq = \"y = \" + str(round(slope,2)) + \"x +\" + str(round(intercept,2))\n",
    "print(line_eq)\n",
    "plt.scatter(x_values,y_values,edgecolors=\"white\",facecolors=\"darkblue\")\n",
    "plt.title('Northern Hemisphere - Wind Speed vs. Lat Linear Regression (01/28/20)')\n",
    "plt.grid (b=True,which=\"major\",axis=\"both\",linestyle=\"-\",color=\"lightgrey\")\n",
    "plt.plot(x_values,regress_values,\"r-\")\n",
    "plt.xlabel('Latitude')\n",
    "plt.ylabel('Wind Speed')\n",
    "plt.annotate(line_eq,(20,15),fontsize=15,color=\"red\")\n",
    "print(f\"The r-squared is: {rvalue}\")\n",
    "plt.savefig(\"output_data/Latitude vs. Wind Speed(linear regression Northern Hemisphere).png\")\n",
    "plt.show()"
   ]
  },
  {
   "cell_type": "markdown",
   "metadata": {},
   "source": [
    "####  Southern Hemisphere - Wind Speed (mph) vs. Latitude Linear Regression"
   ]
  },
  {
   "cell_type": "code",
   "execution_count": 42,
   "metadata": {},
   "outputs": [
    {
     "name": "stdout",
     "output_type": "stream",
     "text": [
      "1       7.986923\n",
      "2      11.433389\n",
      "3       8.662129\n",
      "6      12.183888\n",
      "8       8.229803\n",
      "9      16.356565\n",
      "10      6.449493\n",
      "11      7.676036\n",
      "12     15.955813\n",
      "13     12.234892\n",
      "17     13.461436\n",
      "18      8.625697\n",
      "19      5.638274\n",
      "21     14.364949\n",
      "23      9.028877\n",
      "25      3.945401\n",
      "27      5.426968\n",
      "32      9.087169\n",
      "33     14.265369\n",
      "34      9.223181\n",
      "42     13.041254\n",
      "46      8.195799\n",
      "48     12.276182\n",
      "55      7.353006\n",
      "58     14.287228\n",
      "60     11.219654\n",
      "62      7.433156\n",
      "65      3.690377\n",
      "66     10.806759\n",
      "75      8.883150\n",
      "78      7.984494\n",
      "79      8.237089\n",
      "80      4.584175\n",
      "81      8.802999\n",
      "83     11.406672\n",
      "97      3.226476\n",
      "101     3.969689\n",
      "105     8.003924\n",
      "109    11.205082\n",
      "110     4.950924\n",
      "112     5.215663\n",
      "Name: Lat, dtype: float64\n",
      "y = -0.24x +3.05\n",
      "The r-squared is: -0.5181918716264775\n"
     ]
    },
    {
     "data": {
      "image/png": "[encoded data removed]",
      "text/plain": [
       "<Figure size 432x288 with 1 Axes>"
      ]
     },
     "metadata": {
      "needs_background": "light"
     },
     "output_type": "display_data"
    }
   ],
   "source": [
    "x_values = pd.to_numeric(southern_df['Lat']).astype(float)\n",
    "y_values = pd.to_numeric(southern_df['Wind Speed']).astype(float)\n",
    "(slope, intercept, rvalue, pvalue, stderr) = linregress(x_values, y_values)\n",
    "regress_values = x_values * slope + intercept\n",
    "print(regress_values)\n",
    "line_eq = \"y = \" + str(round(slope,2)) + \"x +\" + str(round(intercept,2))\n",
    "print(line_eq)\n",
    "plt.scatter(x_values,y_values,edgecolors=\"white\",facecolors=\"darkblue\")\n",
    "plt.title('Southern Hemisphere - Wind Speed vs. Lat Linear Regression (01/28/20)')\n",
    "plt.grid (b=True,which=\"major\",axis=\"both\",linestyle=\"-\",color=\"lightgrey\")\n",
    "plt.plot(x_values,regress_values,\"r-\")\n",
    "plt.xlabel('Latitude')\n",
    "plt.ylabel('Wind Speed')\n",
    "plt.annotate(line_eq,(20,15),fontsize=15,color=\"red\")\n",
    "print(f\"The r-squared is: {rvalue}\")\n",
    "plt.savefig(\"output_data/Latitude vs. Wind Speed(linear regression Southern Hemisphere).png\")\n",
    "plt.show()"
   ]
  },
  {
   "cell_type": "code",
   "execution_count": null,
   "metadata": {},
   "outputs": [],
   "source": []
  },
  {
   "cell_type": "code",
   "execution_count": null,
   "metadata": {},
   "outputs": [],
   "source": []
  }
 ],
 "metadata": {
  "anaconda-cloud": {},
  "kernel_info": {
   "name": "python3"
  },
  "kernelspec": {
   "display_name": "Python 3",
   "language": "python",
   "name": "python3"
  },
  "language_info": {
   "codemirror_mode": {
    "name": "ipython",
    "version": 3
   },
   "file_extension": ".py",
   "mimetype": "text/x-python",
   "name": "python",
   "nbconvert_exporter": "python",
   "pygments_lexer": "ipython3",
   "version": "3.7.4"
  },
  "latex_envs": {
   "LaTeX_envs_menu_present": true,
   "autoclose": false,
   "autocomplete": true,
   "bibliofile": "biblio.bib",
   "cite_by": "apalike",
   "current_citInitial": 1,
   "eqLabelWithNumbers": true,
   "eqNumInitial": 1,
   "hotkeys": {
    "equation": "Ctrl-E",
    "itemize": "Ctrl-I"
   },
   "labels_anchors": false,
   "latex_user_defs": false,
   "report_style_numbering": false,
   "user_envs_cfg": false
  },
  "nteract": {
   "version": "0.12.3"
  }
 },
 "nbformat": 4,
 "nbformat_minor": 2
}
